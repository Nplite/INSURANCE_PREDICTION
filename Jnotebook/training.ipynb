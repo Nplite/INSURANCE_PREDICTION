{
 "cells": [
  {
   "cell_type": "code",
   "execution_count": 1,
   "metadata": {},
   "outputs": [],
   "source": [
    "import os\n",
    "os.chdir(r'C:\\Users\\Nplite\\Desktop\\INEURON\\INSURANCE_PREDICTION')"
   ]
  },
  {
   "cell_type": "code",
   "execution_count": 3,
   "metadata": {},
   "outputs": [],
   "source": [
    "\n",
    "from InsurancePremiumPrediction.entity.artifact_entity import DataIngestionArtifact,\\\n",
    "    DataValidationArtifact,DataTransformationArtifact, ModelTrainerArtifact\n",
    "from InsurancePremiumPrediction.entity.config_entity import ModelTrainerConfig\n",
    "from InsurancePremiumPrediction.util.util import load_numpy_array_data\n",
    "import os,sys\n",
    "\n",
    "from sklearn.ensemble import GradientBoostingRegressor,RandomForestRegressor\n",
    "from sklearn.linear_model import LinearRegression\n",
    "from sklearn.tree import DecisionTreeRegressor\n",
    "from sklearn.neighbors import KNeighborsRegressor\n",
    "from sklearn.model_selection import GridSearchCV,train_test_split\n",
    "from sklearn.metrics._regression import r2_score\n",
    "import pickle\n"
   ]
  },
  {
   "cell_type": "code",
   "execution_count": 5,
   "metadata": {},
   "outputs": [],
   "source": [
    "model_dict={}\n",
    "linear_model=LinearRegression()\n",
    "decision_tree_model=DecisionTreeRegressor()\n",
    "knn_model=KNeighborsRegressor()\n",
    "gradient_booster=GradientBoostingRegressor()\n",
    "random_booster=RandomForestRegressor()\n",
    "model_dict['linear_model']=linear_model\n",
    "model_dict['decision_tree_model']=decision_tree_model\n",
    "model_dict['knn_model']=knn_model\n",
    "model_dict['gradient_booster']=gradient_booster\n",
    "model_dict['random_booster']=random_booster"
   ]
  },
  {
   "cell_type": "code",
   "execution_count": 6,
   "metadata": {},
   "outputs": [
    {
     "data": {
      "text/plain": [
       "GradientBoostingRegressor(alpha=0.1, max_depth=2, min_samples_split=7,\n",
       "                          random_state=100)"
      ]
     },
     "execution_count": 6,
     "metadata": {},
     "output_type": "execute_result"
    }
   ],
   "source": [
    "gradient_booster.set_params(max_depth=2, min_samples_split=7, random_state=100,alpha=0.1)"
   ]
  },
  {
   "cell_type": "code",
   "execution_count": 7,
   "metadata": {},
   "outputs": [
    {
     "data": {
      "text/plain": [
       "{'linear_model': LinearRegression(),\n",
       " 'decision_tree_model': DecisionTreeRegressor(),\n",
       " 'knn_model': KNeighborsRegressor(),\n",
       " 'gradient_booster': GradientBoostingRegressor(alpha=0.1, max_depth=2, min_samples_split=7,\n",
       "                           random_state=100),\n",
       " 'random_booster': RandomForestRegressor()}"
      ]
     },
     "execution_count": 7,
     "metadata": {},
     "output_type": "execute_result"
    }
   ],
   "source": [
    "model_dict"
   ]
  },
  {
   "cell_type": "code",
   "execution_count": null,
   "metadata": {},
   "outputs": [],
   "source": []
  }
 ],
 "metadata": {
  "kernelspec": {
   "display_name": "Python 3.7.0",
   "language": "python",
   "name": "python3"
  },
  "language_info": {
   "codemirror_mode": {
    "name": "ipython",
    "version": 3
   },
   "file_extension": ".py",
   "mimetype": "text/x-python",
   "name": "python",
   "nbconvert_exporter": "python",
   "pygments_lexer": "ipython3",
   "version": "3.7.0"
  },
  "orig_nbformat": 4,
  "vscode": {
   "interpreter": {
    "hash": "a8bb9634487241f26151463f9b549d2f0f372ca6902cc2b9f02e58c85769635b"
   }
  }
 },
 "nbformat": 4,
 "nbformat_minor": 2
}
